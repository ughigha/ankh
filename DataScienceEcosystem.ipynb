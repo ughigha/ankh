{
 "cells": [
  {
   "cell_type": "markdown",
   "id": "970637f1-2933-4854-80b3-6d91420ceb73",
   "metadata": {},
   "source": [
    "<H1>Data Science Tools and Ecosystem</H1>\n"
   ]
  },
  {
   "cell_type": "markdown",
   "id": "6760581c-5874-4f7f-877c-bff897603954",
   "metadata": {},
   "source": [
    "# In this notebook, Data Science Tools and Ecosystem are summarized."
   ]
  },
  {
   "cell_type": "markdown",
   "id": "12ba4f5f-81e1-4e9f-8fa1-d028bbb6833c",
   "metadata": {},
   "source": [
    "<b> Objectives: </b>\n",
    "<li>\n",
    "    <ul> Popular languages in Data Science </ul>\n",
    "    <ul> Commonly used Libraries </ul>\n",
    "    <ul> Data Science Tools </ul>\n",
    "    <ul> Evaulating Arithmetic Expression </ul>\n",
    "</li>\n",
    "\n"
   ]
  },
  {
   "cell_type": "markdown",
   "id": "abc31ab0-6951-42a1-a769-699c87e2f02f",
   "metadata": {},
   "source": [
    "<H2>Data Science Languages</H2>"
   ]
  },
  {
   "cell_type": "markdown",
   "id": "a3e552d6-1ccc-46ca-9145-487b0e5635f2",
   "metadata": {},
   "source": [
    "<H2> Some of the popular languages that Data Scientists use are:</H2>\n",
    "\n",
    "<li> \n",
    "    <ol> SQL </ol>\n",
    "    <ol> Python</ol>\n",
    "    <ol> R </ol>\n",
    "    <ol> Java </ol>\n",
    "    <ol> Scala </ol>\n",
    "    <ol> C/C++ </ol>\n",
    "    <ol> MATLAB </ol>\n",
    "    <ol> JavaScript </ol>\n",
    "    <ol> SAS </ol> \n",
    " </li>"
   ]
  },
  {
   "cell_type": "markdown",
   "id": "ac56b1b4-fb45-4d14-8e9f-2aea187feebe",
   "metadata": {},
   "source": [
    "<H2> Some of the commonly used libraries used by Data Scientists include:</H2> \n",
    "<li> \n",
    "    <ol> Panda </ol>\n",
    "    <ol> NumPy </ol>\n",
    "    <ol> Scikit-learn </ol>\n",
    "    <ol> Matplotlib </ol>\n",
    "    <ol> TensorFlow </ol>\n",
    "    <ol> Scipy </ol>\n",
    "    <ol> Keras </ol>\n",
    "    <ol> Pytorch </ol>   \n",
    "</li>"
   ]
  },
  {
   "cell_type": "markdown",
   "id": "bf9e6511-4a13-4141-8ab7-34b7994f3135",
   "metadata": {},
   "source": [
    "<H2> Data Science Tools </H2>\n",
    "<table>\n",
    "    <tr></tr>\n",
    "       <td> Apache Spak </td> \n",
    "       <td> Jupyter </td>\n",
    "        <td> Tableau </td>\n",
    "        <td> Python </td>\n",
    "        <td> Scikit-learn </td>\n",
    "        <td> Apache Hadoop </td>\n",
    "        <td> Excel </td>\n",
    "        <td> SAS </td>\n",
    "        <td> Ggplot2 </td> \n",
    "    \n",
    "</table>"
   ]
  },
  {
   "cell_type": "markdown",
   "id": "27e76ce5-3325-49be-94e0-072804011c9e",
   "metadata": {},
   "source": [
    "<H3> Below are a few examples of evaluating arithmetic expressions in Python. </H3>"
   ]
  },
  {
   "cell_type": "code",
   "execution_count": 5,
   "id": "16206f1f-8529-45ef-ad68-3bb48ed8eccc",
   "metadata": {
    "scrolled": true
   },
   "outputs": [
    {
     "data": {
      "text/plain": [
       "17"
      ]
     },
     "execution_count": 5,
     "metadata": {},
     "output_type": "execute_result"
    }
   ],
   "source": [
    "# Evaluating an arithmetic expression multiplying and adding integers\n",
    "(3*4)+5"
   ]
  },
  {
   "cell_type": "code",
   "execution_count": 8,
   "id": "444e3add-3172-4774-9999-c879cc3e0788",
   "metadata": {},
   "outputs": [
    {
     "name": "stdout",
     "output_type": "stream",
     "text": [
      "3.3333333333333335\n"
     ]
    }
   ],
   "source": [
    "# This will convert 200 minutes to hours\n",
    "minutes = 200 \n",
    "hours = 60 \n",
    "print(minutes/hours)"
   ]
  },
  {
   "cell_type": "markdown",
   "id": "7aa7efdf-d7fc-47a8-a02a-5295023065ff",
   "metadata": {},
   "source": [
    "<H2> Author: \n",
    "     Bright </H2>\n",
    "     "
   ]
  }
 ],
 "metadata": {
  "kernelspec": {
   "display_name": "Python 3 (ipykernel)",
   "language": "python",
   "name": "python3"
  },
  "language_info": {
   "codemirror_mode": {
    "name": "ipython",
    "version": 3
   },
   "file_extension": ".py",
   "mimetype": "text/x-python",
   "name": "python",
   "nbconvert_exporter": "python",
   "pygments_lexer": "ipython3",
   "version": "3.11.9"
  }
 },
 "nbformat": 4,
 "nbformat_minor": 5
}
